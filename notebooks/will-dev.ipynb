{
 "cells": [
  {
   "cell_type": "code",
   "execution_count": null,
   "metadata": {},
   "outputs": [],
   "source": [
    "import sys\n",
    "print(sys.executable)\n"
   ]
  },
  {
   "cell_type": "code",
   "execution_count": null,
   "metadata": {},
   "outputs": [],
   "source": [
    "import pandas as pd\n",
    "import geopandas as gpd\n",
    "import numpy as np\n",
    "import altair as alt\n",
    "import vegafusion as vf\n",
    "vf.enable()\n",
    "import json"
   ]
  },
  {
   "cell_type": "code",
   "execution_count": null,
   "metadata": {},
   "outputs": [],
   "source": [
    "data = pd.read_csv('../Data/AirQualityHealthRisks.csv')\n",
    "EuropeData = gpd.read_file('../Data/europe.geojson')\n",
    "\n",
    "country_mapping = {\n",
    "    \"Türkiye\": \"Turkey\",\n",
    "    \"North Macedonia\": \"The former Yugoslav Republic of Macedonia\",\n",
    "    \"Czechia\": \"Czech Republic\",\n",
    "    \"United Kingdom\": \"United Kingdom\"\n",
    "}\n",
    "data[\"Country Or Territory\"] = data[\"Country Or Territory\"].replace(country_mapping)\n",
    "\n",
    "deduplicated_data = data.drop_duplicates(subset=[\"Country Or Territory\", \"Year\", \"Air Pollutant\"])\n",
    "aggregated_data = deduplicated_data.groupby(\n",
    "    [\"Country Or Territory\", \"Year\", \"Air Pollutant\"], as_index=False\n",
    ").agg({\n",
    "    \"Premature Deaths\": \"sum\",\n",
    "    \"Years Of Life Lost\": \"sum\",\n",
    "    \"Population\": \"mean\"  \n",
    "})\n",
    "\n",
    "merged_data = EuropeData.merge(\n",
    "    aggregated_data,\n",
    "    left_on=\"NAME\",\n",
    "    right_on=\"Country Or Territory\",\n",
    "    how=\"left\"\n",
    ")\n",
    "\n",
    "# Add a column for lives lost per person\n",
    "merged_data[\"Lives Lost per Person\"] = merged_data[\"Years Of Life Lost\"] / merged_data[\"Population\"]\n",
    "\n",
    "# All Countries, EU, EEA\n",
    "specific_categories = [\"All Countries\", \"European Union Countries\", \"European Environment Agency Member Countries\"]\n",
    "category_data = aggregated_data[aggregated_data[\"Country Or Territory\"].isin(specific_categories)]\n",
    "category_totals = category_data.groupby(\"Country Or Territory\").agg({\n",
    "    \"Premature Deaths\": \"sum\",\n",
    "    \"Years Of Life Lost\": \"sum\",\n",
    "    \"Population\": \"mean\"\n",
    "}).reset_index()\n",
    "\n",
    "# merged_data.to_csv(\"Cleaned_Merged_Data.csv\", index=False)\n",
    "# category_totals.to_csv(\"Category_Totals.csv\", index=False)\n",
    "\n"
   ]
  },
  {
   "cell_type": "code",
   "execution_count": null,
   "metadata": {},
   "outputs": [],
   "source": [
    "\n",
    "merged_data[\"Lives Lost per Person\"] = merged_data[\"Years Of Life Lost\"] / merged_data[\"Population\"]\n",
    "\n",
    "choropleth = alt.Chart(merged_data).mark_geoshape(\n",
    "    stroke='white', strokeWidth=0.5\n",
    ").encode(\n",
    "    color=alt.Color(\n",
    "        \"Premature Deaths:Q\",\n",
    "        scale=alt.Scale(scheme=\"reds\"),\n",
    "        title=\"Premature Deaths\",\n",
    "        legend=alt.Legend(title=\"Premature Deaths\", orient=\"bottom-right\")\n",
    "    ),\n",
    "    tooltip=[\n",
    "        alt.Tooltip(\"NAME:N\", title=\"Country\"),\n",
    "        alt.Tooltip(\"Premature Deaths:Q\", title=\"Premature Deaths\", format=\",.0f\"),\n",
    "        alt.Tooltip(\"Years Of Life Lost:Q\", title=\"Years of Life Lost\", format=\",.0f\"),\n",
    "        alt.Tooltip(\"Lives Lost per Person:Q\", title=\"Lives Lost per Person\", format=\".6f\")\n",
    "    ]\n",
    ").project(\n",
    "    type=\"mercator\",\n",
    "    scale=600,\n",
    "    center=[10, 50]\n",
    ").properties(\n",
    "    width=1000,\n",
    "    height=700,\n",
    "    title=alt.TitleParams(\n",
    "        \"Premature Deaths and Lives Lost per Person in Europe\",\n",
    "        fontSize=20,\n",
    "        fontWeight=\"bold\",\n",
    "        anchor=\"middle\"\n",
    "    )\n",
    ").configure_view(\n",
    "    stroke=None\n",
    ").configure_legend(\n",
    "    titleFontSize=14,\n",
    "    labelFontSize=12,\n",
    "    gradientLength=200\n",
    ")\n",
    "\n",
    "choropleth.show()\n"
   ]
  }
 ],
 "metadata": {
  "kernelspec": {
   "display_name": "Python 3",
   "language": "python",
   "name": "python3"
  },
  "language_info": {
   "codemirror_mode": {
    "name": "ipython",
    "version": 3
   },
   "file_extension": ".py",
   "mimetype": "text/x-python",
   "name": "python",
   "nbconvert_exporter": "python",
   "pygments_lexer": "ipython3",
   "version": "3.11.9"
  }
 },
 "nbformat": 4,
 "nbformat_minor": 2
}
