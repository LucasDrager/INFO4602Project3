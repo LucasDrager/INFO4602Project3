{
 "cells": [
  {
   "cell_type": "markdown",
   "metadata": {},
   "source": [
    "# Imports"
   ]
  },
  {
   "cell_type": "code",
   "execution_count": null,
   "metadata": {},
   "outputs": [],
   "source": [
    "import pandas as pd\n",
    "import geopandas as gpd\n",
    "import numpy as np\n",
    "import altair as alt\n",
    "import requests\n",
    "import vegafusion as vf\n",
    "vf.enable()\n",
    "import json\n",
    "import math"
   ]
  },
  {
   "cell_type": "markdown",
   "metadata": {},
   "source": [
    "# Mock Ups"
   ]
  },
  {
   "cell_type": "code",
   "execution_count": null,
   "metadata": {},
   "outputs": [],
   "source": [
    "EuropeData = gpd.read_file('../Data/europe.geojson')\n",
    "EuropeData"
   ]
  },
  {
   "cell_type": "code",
   "execution_count": null,
   "metadata": {},
   "outputs": [],
   "source": [
    "Default = alt.Chart(EuropeData).mark_geoshape(\n",
    "    stroke='white',\n",
    "    strokeWidth=1\n",
    ").encode(\n",
    "     color=alt.Color('POP2005', title='Volume of Toxins (Mil tons air)',bin=alt.Bin(maxbins=10),scale=alt.Scale(scheme='blues'))\n",
    ").project('mercator').properties(\n",
    "    width=600,\n",
    "    height=500\n",
    ")\n",
    "temp = alt.Chart(EuropeData).mark_geoshape(\n",
    "    stroke='white',\n",
    "    strokeWidth=1\n",
    ").encode(\n",
    "     color=alt.Color('POP2005', title='Volume of Toxins (Mil tons air)',bin=alt.Bin(maxbins=10),scale=alt.Scale(scheme='reds'))\n",
    ").project('mercator').properties(\n",
    "    width=600,\n",
    "    height=500\n",
    ")"
   ]
  },
  {
   "cell_type": "code",
   "execution_count": null,
   "metadata": {},
   "outputs": [],
   "source": [
    "Default"
   ]
  },
  {
   "cell_type": "code",
   "execution_count": null,
   "metadata": {},
   "outputs": [],
   "source": [
    "temp"
   ]
  },
  {
   "cell_type": "markdown",
   "metadata": {},
   "source": [
    "# Air Qualtiy Graphs"
   ]
  },
  {
   "cell_type": "code",
   "execution_count": null,
   "metadata": {},
   "outputs": [],
   "source": [
    "AirInfo = pd.read_csv('../Data/who_ambient_air_quality_database_version_2024_(v6.1).csv')\n",
    "AirInfo = AirInfo.dropna(subset=[\"year\"])\n",
    "AirInfo[\"year\"] = AirInfo[\"year\"].apply(lambda x: int(x))\n",
    "AirInfo = AirInfo[AirInfo[\"who_region\"] == \"4_Eur\"]\n",
    "AirInfo"
   ]
  },
  {
   "cell_type": "code",
   "execution_count": null,
   "metadata": {},
   "outputs": [],
   "source": [
    "# Load the data from the uploaded CSV file\n",
    "file_path = '../data/who_ambient_air_quality_database_version_2024_(v6.1).csv'\n",
    "df = pd.read_csv(file_path)\n",
    "\n",
    "# Remove NaN values from the year column before converting to integer\n",
    "df = df.dropna(subset=['year'])\n",
    "\n",
    "# Ensure the year column is of type integer\n",
    "df['year'] = df['year'].astype(int)\n",
    "\n",
    "# Ensure the year range is from 2010 to 2022\n",
    "years = list(range(2010, 2023))\n",
    "\n",
    "# Generate all country-year combinations\n",
    "countries = df['country_name'].unique()\n",
    "new_index = pd.MultiIndex.from_product([countries, years], names=['country_name', 'year'])\n",
    "\n",
    "# Aggregate duplicate entries by averaging numeric values for the same country and year\n",
    "df = df.groupby(['country_name', 'year']).mean(numeric_only=True).reset_index()\n",
    "\n",
    "# Set MultiIndex again after aggregation\n",
    "df.set_index(['country_name', 'year'], inplace=True)\n",
    "\n",
    "# Reindex to create missing years with NaNs and reset the index\n",
    "df = df.reindex(new_index).reset_index()\n",
    "\n",
    "# Replace emission data NaNs with 0, while retaining country and year information\n",
    "emission_columns = [col for col in df.columns if 'concentration' in col.lower()]\n",
    "df[emission_columns] = df[emission_columns].fillna(0)\n",
    "\n",
    "# Display the cleaned dataframe\n",
    "df\n"
   ]
  },
  {
   "cell_type": "code",
   "execution_count": null,
   "metadata": {},
   "outputs": [],
   "source": [
    "df[df[\"country_name\"] == \"Russian Federation\"]"
   ]
  },
  {
   "cell_type": "code",
   "execution_count": null,
   "metadata": {},
   "outputs": [],
   "source": [
    "AirInfo = AirInfo.groupby(['country_name', 'year']).agg({\n",
    "    'pm10_concentration': 'mean',  # Use 'mean' to calculate the average concentration\n",
    "    'pm25_concentration': 'mean',\n",
    "    'no2_concentration': 'mean'\n",
    "}).reset_index()\n",
    "\n",
    "AirInfo"
   ]
  },
  {
   "cell_type": "code",
   "execution_count": null,
   "metadata": {},
   "outputs": [],
   "source": [
    "df = df.groupby(['country_name', 'year']).agg({\n",
    "    'pm10_concentration': 'mean',  # Use 'mean' to calculate the average concentration\n",
    "    'pm25_concentration': 'mean',\n",
    "    'no2_concentration': 'mean'\n",
    "}).reset_index()\n",
    "\n",
    "df"
   ]
  },
  {
   "cell_type": "code",
   "execution_count": null,
   "metadata": {},
   "outputs": [],
   "source": [
    "vf.enable(row_limit=50000)\n",
    "temp = alt.Chart(AirInfo).mark_line().encode(\n",
    "    x=\"year:T\",\n",
    "    y=\"pm10_concentration:Q\",\n",
    "    color='country_name'\n",
    ").properties(\n",
    "    width=750,\n",
    "    height=300\n",
    ")\n",
    "temp"
   ]
  },
  {
   "cell_type": "code",
   "execution_count": null,
   "metadata": {},
   "outputs": [],
   "source": [
    "vf.enable(row_limit=50000)\n",
    "temp = alt.Chart(AirInfo[AirInfo[\"country_name\"] == \"Andorra\"]).mark_line().encode(\n",
    "    x=\"year:T\",\n",
    "    y=\"pm10_concentration:Q\",\n",
    "    color='country_name'\n",
    ").properties(\n",
    "    width=750,\n",
    "    height=300\n",
    ")\n",
    "temp"
   ]
  },
  {
   "cell_type": "code",
   "execution_count": null,
   "metadata": {},
   "outputs": [],
   "source": [
    "vf.enable(row_limit=50000)\n",
    "temp = alt.Chart(df[df[\"country_name\"] == \"Andorra\"]).mark_line().encode(\n",
    "    x=\"year:T\",\n",
    "    y=\"pm10_concentration:Q\",\n",
    "    color='country_name'\n",
    ").properties(\n",
    "    width=750,\n",
    "    height=300\n",
    ")\n",
    "temp"
   ]
  },
  {
   "cell_type": "code",
   "execution_count": null,
   "metadata": {},
   "outputs": [],
   "source": [
    "merged_data = EuropeData.merge(AirInfo, how='inner', left_on='NAME', right_on='country_name')\n",
    "\n",
    "# Prepare the merged data for Altair (convert to GeoJSON)\n",
    "merged_data_json = merged_data.to_json()\n",
    "merged_data"
   ]
  },
  {
   "cell_type": "code",
   "execution_count": null,
   "metadata": {},
   "outputs": [],
   "source": [
    "merged_data2 = EuropeData.merge(df, how='inner', left_on='NAME', right_on='country_name')\n",
    "\n",
    "# Prepare the merged data for Altair (convert to GeoJSON)\n",
    "merged_data_json2 = merged_data.to_json()\n",
    "merged_data2"
   ]
  },
  {
   "cell_type": "code",
   "execution_count": null,
   "metadata": {},
   "outputs": [],
   "source": [
    "set1 = set(EuropeData[\"NAME\"].unique())\n",
    "set2 = set(AirInfo[\"country_name\"].unique())\n",
    "# Find differences\n",
    "only_in_array1 = set1 - set2\n",
    "only_in_array2 = set2 - set1\n",
    "\n",
    "print(f\"Strings only in EuropeNames: {only_in_array1}\")\n",
    "print(f\"Strings only in AirInfoNames: {only_in_array2}\")"
   ]
  },
  {
   "cell_type": "code",
   "execution_count": null,
   "metadata": {},
   "outputs": [],
   "source": [
    "name_mapping = {\n",
    "    \"Russian Federation\": \"Russia\",\n",
    "    \"North Macedonia\": \"The former Yugoslav Republic of Macedonia\",\n",
    "    \"Netherlands (Kingdom of the)\": \"Netherlands\",\n",
    "    \"T?�rkiye\": \"Turkey\",\n",
    "    \"United Kingdom of Great Britain and Northern Ireland\": \"United Kingdom\",\n",
    "    \"Czechia\": \"Czech Republic\",\n",
    "    \"Republic of Moldova\": \"Republic of Moldova\",  # Example of keeping the same\n",
    "    # Add other mappings as needed\n",
    "}\n",
    "for old_name, new_name in name_mapping.items():\n",
    "    AirInfo[\"country_name\"] = AirInfo[\"country_name\"].replace(old_name, new_name)\n",
    "    df[\"country_name\"] = df[\"country_name\"].replace(old_name, new_name)"
   ]
  },
  {
   "cell_type": "code",
   "execution_count": null,
   "metadata": {},
   "outputs": [],
   "source": [
    "AirInfo[\"country_name\"].unique()"
   ]
  },
  {
   "cell_type": "code",
   "execution_count": null,
   "metadata": {},
   "outputs": [],
   "source": [
    "# Load CSV and GeoJSON files\n",
    "geo_data = gpd.read_file('../data/europe.geojson')\n",
    "\n",
    "# Merge data\n",
    "merged_data = geo_data.merge(AirInfo, how='inner', left_on='NAME', right_on='country_name')\n",
    "\n",
    "# Convert the GeoDataFrame to GeoJSON\n",
    "geojson_data = merged_data.to_json()\n",
    "\n",
    "# Create an Altair geoshape chart\n",
    "merged_data"
   ]
  },
  {
   "cell_type": "code",
   "execution_count": null,
   "metadata": {},
   "outputs": [],
   "source": [
    "# Load CSV and GeoJSON files\n",
    "geo_data = gpd.read_file('../data/europe.geojson')\n",
    "\n",
    "# Merge data\n",
    "merged_data2 = geo_data.merge(df, how='inner', left_on='NAME', right_on='country_name')\n",
    "\n",
    "# Convert the GeoDataFrame to GeoJSON\n",
    "geojson_data2 = merged_data.to_json()\n",
    "\n",
    "# Create an Altair geoshape chart\n",
    "merged_data2"
   ]
  },
  {
   "cell_type": "code",
   "execution_count": null,
   "metadata": {},
   "outputs": [],
   "source": [
    "filtered_data = merged_data[merged_data['year'] == 2019]\n",
    "\n",
    "chart = alt.Chart(filtered_data).mark_geoshape().encode(\n",
    "    color=alt.Color('pm25_concentration:Q', title='PM2.5 Concentration'),\n",
    "    tooltip=[\n",
    "        alt.Tooltip('country_name:N', title='Country'),\n",
    "        alt.Tooltip('pm10_concentration:Q', title='PM10'),\n",
    "        alt.Tooltip('pm25_concentration:Q', title='PM2.5'),\n",
    "        alt.Tooltip('no2_concentration:Q', title='NO2')\n",
    "    ]\n",
    ").properties(\n",
    "    width=800,\n",
    "    height=600,\n",
    "    title=\"Chemical Concentrations in Europe\"\n",
    ").project(\n",
    "    type='mercator',  # Projection type\n",
    "    center=[10, 50],  # Approximate center of Europe (longitude, latitude)\n",
    "    scale=500  # Adjust scale for zoom\n",
    ")\n",
    "chart"
   ]
  },
  {
   "cell_type": "code",
   "execution_count": null,
   "metadata": {},
   "outputs": [],
   "source": [
    "min_pm25 = merged_data['pm25_concentration'].min()\n",
    "max_pm25 = merged_data['pm25_concentration'].max()\n",
    "\n",
    "# Create a slider selection\n",
    "slider = alt.binding_range(min=2010, max=2022, step=1, name=\"Year\")\n",
    "year_selection = alt.selection_point(fields=['year'], bind=slider, name=\"Select\")\n",
    "\n",
    "# Create the chart\n",
    "chart = alt.Chart(merged_data).mark_geoshape().encode(\n",
    "    color=alt.Color(\n",
    "        'pm25_concentration:Q',\n",
    "        title='PM2.5 Concentration',\n",
    "        scale=alt.Scale(domain=[min_pm25, max_pm25], clamp=True)  # Constant scale\n",
    "    ),\n",
    "    tooltip=[\n",
    "        alt.Tooltip('country_name:N', title='Country'),\n",
    "        alt.Tooltip('pm10_concentration:Q', title='PM10'),\n",
    "        alt.Tooltip('pm25_concentration:Q', title='PM2.5'),\n",
    "        alt.Tooltip('no2_concentration:Q', title='NO2')\n",
    "    ]\n",
    ").properties(\n",
    "    width=800,\n",
    "    height=600,\n",
    "    title=\"Chemical Concentrations in Europe\"\n",
    ").project(\n",
    "    type='mercator',\n",
    "    center=[10, 50],\n",
    "    scale=500\n",
    ").add_params(\n",
    "    year_selection\n",
    ").transform_filter(\n",
    "    year_selection\n",
    ")\n",
    "\n",
    "chart\n"
   ]
  },
  {
   "cell_type": "code",
   "execution_count": null,
   "metadata": {},
   "outputs": [],
   "source": [
    "min_pm25 = merged_data['pm25_concentration'].min()\n",
    "max_pm25 = merged_data['pm25_concentration'].max()\n",
    "\n",
    "# Create a slider selection\n",
    "slider = alt.binding_range(min=2010, max=2022, step=1, name=\"Year\")\n",
    "year_selection = alt.selection_point(fields=['year'], bind=slider, name=\"Select\")\n",
    "\n",
    "# Create the chart\n",
    "chart = alt.Chart(merged_data2).mark_geoshape(\n",
    "    stroke='white',        # Set the border color (e.g., black)\n",
    "    strokeWidth=0.4\n",
    ").encode(\n",
    "    color=alt.condition(\n",
    "        alt.datum.pm25_concentration > 0,\n",
    "        alt.Color(\n",
    "            'pm25_concentration:Q',\n",
    "            title='PM2.5 Concentration',\n",
    "            scale=alt.Scale(domain=[min_pm25, max_pm25], clamp=True, scheme='magma',reverse=True)\n",
    "        ),\n",
    "        alt.value('lightgray')  # Gray out countries with PM2.5 = 0\n",
    "    ),\n",
    "    tooltip=[\n",
    "        alt.Tooltip('country_name:N', title='Country'),\n",
    "        alt.Tooltip('pm10_concentration:Q', title='PM10'),\n",
    "        alt.Tooltip('pm25_concentration:Q', title='PM2.5'),\n",
    "        alt.Tooltip('no2_concentration:Q', title='NO2')\n",
    "    ]\n",
    ").properties(\n",
    "    width=800,\n",
    "    height=600,\n",
    "    title=\"Chemical Concentrations in Europe\"\n",
    ").project(\n",
    "    type='mercator',\n",
    "    center=[10, 50],\n",
    "    scale=500\n",
    ").add_params(\n",
    "    year_selection\n",
    ").transform_filter(\n",
    "    year_selection\n",
    ")\n",
    "\n",
    "chart"
   ]
  },
  {
   "cell_type": "code",
   "execution_count": null,
   "metadata": {},
   "outputs": [],
   "source": [
    "min_pm25 = merged_data['pm25_concentration'].min()\n",
    "max_pm25 = merged_data['pm25_concentration'].max()\n",
    "\n",
    "# Create a slider selection\n",
    "slider = alt.binding_range(min=2010, max=2022, step=1, name=\"Year\")\n",
    "year_selection = alt.selection_point(fields=['year'], bind=slider, name=\"Select\")\n",
    "\n",
    "# Create the chart\n",
    "chart = alt.Chart(merged_data2).mark_geoshape(\n",
    "    stroke='white',        # Set the border color (e.g., black)\n",
    "    strokeWidth=0.4\n",
    ").encode(\n",
    "    color=alt.condition(\n",
    "        alt.datum.pm25_concentration > 0,\n",
    "        alt.Color(\n",
    "            'pm10_concentration:Q',\n",
    "            title='PM1.0 Concentration',\n",
    "            scale=alt.Scale(domain=[min_pm25, max_pm25], clamp=True, scheme='magma',reverse=True)\n",
    "        ),\n",
    "        alt.value('lightgray')  # Gray out countries with PM2.5 = 0\n",
    "    ),\n",
    "    tooltip=[\n",
    "        alt.Tooltip('country_name:N', title='Country'),\n",
    "        alt.Tooltip('pm10_concentration:Q', title='PM10'),\n",
    "        alt.Tooltip('pm25_concentration:Q', title='PM2.5'),\n",
    "        alt.Tooltip('no2_concentration:Q', title='NO2')\n",
    "    ]\n",
    ").properties(\n",
    "    width=800,\n",
    "    height=600,\n",
    "    title=\"Chemical Concentrations in Europe\"\n",
    ").project(\n",
    "    type='mercator',\n",
    "    center=[10, 50],\n",
    "    scale=500\n",
    ").add_params(\n",
    "    year_selection\n",
    ").transform_filter(\n",
    "    year_selection\n",
    ")\n",
    "\n",
    "chart"
   ]
  },
  {
   "cell_type": "code",
   "execution_count": null,
   "metadata": {},
   "outputs": [],
   "source": [
    "min_pm25 = merged_data['pm25_concentration'].min()\n",
    "max_pm25 = merged_data['pm25_concentration'].max()\n",
    "\n",
    "# Create a slider selection\n",
    "slider = alt.binding_range(min=2010, max=2022, step=1, name=\"Year\")\n",
    "year_selection = alt.selection_point(fields=['year'], bind=slider, name=\"Select\")\n",
    "\n",
    "# Create the chart\n",
    "chart = alt.Chart(merged_data2).mark_geoshape(\n",
    "    stroke='white',        # Set the border color (e.g., black)\n",
    "    strokeWidth=0.4\n",
    ").encode(\n",
    "    color=alt.condition(\n",
    "        alt.datum.no2_concentration > 0,\n",
    "        alt.Color(\n",
    "            'no2_concentration:Q',\n",
    "            title='NO2 Concentration',\n",
    "            scale=alt.Scale(domain=[min_pm25, max_pm25], clamp=True, scheme='magma',reverse=True)\n",
    "        ),\n",
    "        alt.value('lightgray')  # Gray out countries with PM2.5 = 0\n",
    "    ),\n",
    "    tooltip=[\n",
    "        alt.Tooltip('country_name:N', title='Country'),\n",
    "        alt.Tooltip('pm10_concentration:Q', title='PM10'),\n",
    "        alt.Tooltip('pm25_concentration:Q', title='PM2.5'),\n",
    "        alt.Tooltip('no2_concentration:Q', title='NO2')\n",
    "    ]\n",
    ").properties(\n",
    "    width=800,\n",
    "    height=600,\n",
    "    title=\"Chemical Concentrations in Europe\"\n",
    ").project(\n",
    "    type='mercator',\n",
    "    center=[10, 50],\n",
    "    scale=500\n",
    ").add_params(\n",
    "    year_selection\n",
    ").transform_filter(\n",
    "    year_selection\n",
    ")\n",
    "\n",
    "chart"
   ]
  },
  {
   "cell_type": "code",
   "execution_count": null,
   "metadata": {},
   "outputs": [],
   "source": [
    "# temp = alt.Chart(AirInfo[AirInfo[\"country_name\"] == \"Spain\"]).mark_line().encode(\n",
    "#     x=\"year:T\",\n",
    "#     y=\"pm10_concentration:Q\",\n",
    "#     facet=alt.Facet('city',columns=5)\n",
    "# ).properties(\n",
    "#     width=100,\n",
    "#     height=100\n",
    "# )\n",
    "# temp"
   ]
  }
 ],
 "metadata": {
  "kernelspec": {
   "display_name": "Python 3",
   "language": "python",
   "name": "python3"
  },
  "language_info": {
   "codemirror_mode": {
    "name": "ipython",
    "version": 3
   },
   "file_extension": ".py",
   "mimetype": "text/x-python",
   "name": "python",
   "nbconvert_exporter": "python",
   "pygments_lexer": "ipython3",
   "version": "3.11.9"
  }
 },
 "nbformat": 4,
 "nbformat_minor": 2
}
